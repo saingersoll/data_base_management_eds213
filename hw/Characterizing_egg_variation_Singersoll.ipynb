{
 "cells": [
  {
   "cell_type": "markdown",
   "id": "e3e068ad-ac79-453e-a743-3761f1c7d790",
   "metadata": {},
   "source": [
    "Author: Sofia Ingersoll\n",
    "\n",
    "\n",
    "Title: WK6 SQL Q2\n",
    "\n",
    "\n",
    "Date: 2024/05/14\n",
    "\n",
    "\n",
    "#### Step 1\n",
    "\n",
    "Create a query that will return the distinct species for which there is egg data (not all species and not all nests have egg data), so that you can then loop over those species. Your query should return two columns, species code and scientific name. Please order the results in alphabetic order of scientific name.\n"
   ]
  },
  {
   "cell_type": "code",
   "execution_count": 7,
   "id": "d432afd3-81a7-43cb-82c9-a27060b6aafd",
   "metadata": {
    "tags": []
   },
   "outputs": [],
   "source": [
    "\n",
    "# Close the connection\n",
    "conn.close()"
   ]
  },
  {
   "cell_type": "code",
   "execution_count": 6,
   "id": "ec084333-7457-41c8-8752-81ef874c1a8a",
   "metadata": {
    "tags": []
   },
   "outputs": [
    {
     "data": {
      "text/plain": [
       "<duckdb.duckdb.DuckDBPyConnection at 0x7efbd87d12f0>"
      ]
     },
     "execution_count": 6,
     "metadata": {},
     "output_type": "execute_result"
    }
   ],
   "source": [
    "conn\n"
   ]
  },
  {
   "cell_type": "code",
   "execution_count": 4,
   "id": "73eaebf2-d01a-489b-a41e-750c1cbdbf03",
   "metadata": {
    "tags": []
   },
   "outputs": [
    {
     "ename": "DatabaseError",
     "evalue": "Execution failed on sql: \nSELECT DISTINCT Species.Code, Species.Scientific_name\nFROM Bird_nests\nJOIN Species ON Bird_nests.Species = Species.Code\nWHERE Bird_nests.Length IS NOT NULL AND Bird_nests.Width IS NOT NULL\n\nORDER BY Species.Scientific_name;\n\nBinder Error: Table \"Bird_nests\" does not have a column named \"Length\"\nLINE 5: WHERE Bird_nests.Length IS NOT NULL AND Bird_nests.Width IS NOT NULL\n\nORDER BY Species.Scientific_name;\n...\n              ^\nunable to rollback",
     "output_type": "error",
     "traceback": [
      "\u001b[0;31m---------------------------------------------------------------------------\u001b[0m",
      "\u001b[0;31mBinderException\u001b[0m                           Traceback (most recent call last)",
      "\u001b[0;32m/opt/python/3.7.13/lib/python3.7/site-packages/pandas/io/sql.py\u001b[0m in \u001b[0;36mexecute\u001b[0;34m(self, *args, **kwargs)\u001b[0m\n\u001b[1;32m   2055\u001b[0m         \u001b[0;32mtry\u001b[0m\u001b[0;34m:\u001b[0m\u001b[0;34m\u001b[0m\u001b[0;34m\u001b[0m\u001b[0m\n\u001b[0;32m-> 2056\u001b[0;31m             \u001b[0mcur\u001b[0m\u001b[0;34m.\u001b[0m\u001b[0mexecute\u001b[0m\u001b[0;34m(\u001b[0m\u001b[0;34m*\u001b[0m\u001b[0margs\u001b[0m\u001b[0;34m,\u001b[0m \u001b[0;34m**\u001b[0m\u001b[0mkwargs\u001b[0m\u001b[0;34m)\u001b[0m\u001b[0;34m\u001b[0m\u001b[0;34m\u001b[0m\u001b[0m\n\u001b[0m\u001b[1;32m   2057\u001b[0m             \u001b[0;32mreturn\u001b[0m \u001b[0mcur\u001b[0m\u001b[0;34m\u001b[0m\u001b[0;34m\u001b[0m\u001b[0m\n",
      "\u001b[0;31mBinderException\u001b[0m: Binder Error: Table \"Bird_nests\" does not have a column named \"Length\"\nLINE 5: WHERE Bird_nests.Length IS NOT NULL AND Bird_nests.Width IS NOT NULL\n\nORDER BY Species.Scientific_name;\n...\n              ^",
      "\nDuring handling of the above exception, another exception occurred:\n",
      "\u001b[0;31mTransactionException\u001b[0m                      Traceback (most recent call last)",
      "\u001b[0;32m/opt/python/3.7.13/lib/python3.7/site-packages/pandas/io/sql.py\u001b[0m in \u001b[0;36mexecute\u001b[0;34m(self, *args, **kwargs)\u001b[0m\n\u001b[1;32m   2059\u001b[0m             \u001b[0;32mtry\u001b[0m\u001b[0;34m:\u001b[0m\u001b[0;34m\u001b[0m\u001b[0;34m\u001b[0m\u001b[0m\n\u001b[0;32m-> 2060\u001b[0;31m                 \u001b[0mself\u001b[0m\u001b[0;34m.\u001b[0m\u001b[0mcon\u001b[0m\u001b[0;34m.\u001b[0m\u001b[0mrollback\u001b[0m\u001b[0;34m(\u001b[0m\u001b[0;34m)\u001b[0m\u001b[0;34m\u001b[0m\u001b[0;34m\u001b[0m\u001b[0m\n\u001b[0m\u001b[1;32m   2061\u001b[0m             \u001b[0;32mexcept\u001b[0m \u001b[0mException\u001b[0m \u001b[0;32mas\u001b[0m \u001b[0minner_exc\u001b[0m\u001b[0;34m:\u001b[0m  \u001b[0;31m# pragma: no cover\u001b[0m\u001b[0;34m\u001b[0m\u001b[0;34m\u001b[0m\u001b[0m\n",
      "\u001b[0;31mTransactionException\u001b[0m: TransactionContext Error: cannot rollback - no transaction is active",
      "\nThe above exception was the direct cause of the following exception:\n",
      "\u001b[0;31mDatabaseError\u001b[0m                             Traceback (most recent call last)",
      "\u001b[0;32m/tmp/ipykernel_190593/1141559732.py\u001b[0m in \u001b[0;36m<module>\u001b[0;34m\u001b[0m\n\u001b[1;32m     16\u001b[0m \u001b[0;34m\u001b[0m\u001b[0m\n\u001b[1;32m     17\u001b[0m \u001b[0;31m# Read data into Pandas DataFrame\u001b[0m\u001b[0;34m\u001b[0m\u001b[0;34m\u001b[0m\u001b[0;34m\u001b[0m\u001b[0m\n\u001b[0;32m---> 18\u001b[0;31m \u001b[0mspecies_df\u001b[0m \u001b[0;34m=\u001b[0m \u001b[0mpd\u001b[0m\u001b[0;34m.\u001b[0m\u001b[0mread_sql\u001b[0m\u001b[0;34m(\u001b[0m\u001b[0mspecies_query\u001b[0m\u001b[0;34m,\u001b[0m \u001b[0mconn\u001b[0m\u001b[0;34m)\u001b[0m\u001b[0;34m\u001b[0m\u001b[0;34m\u001b[0m\u001b[0m\n\u001b[0m\u001b[1;32m     19\u001b[0m \u001b[0;31m# should do same as above\u001b[0m\u001b[0;34m\u001b[0m\u001b[0;34m\u001b[0m\u001b[0;34m\u001b[0m\u001b[0m\n\u001b[1;32m     20\u001b[0m \u001b[0;31m# Execute the query and fetch the results\u001b[0m\u001b[0;34m\u001b[0m\u001b[0;34m\u001b[0m\u001b[0;34m\u001b[0m\u001b[0m\n",
      "\u001b[0;32m/opt/python/3.7.13/lib/python3.7/site-packages/pandas/io/sql.py\u001b[0m in \u001b[0;36mread_sql\u001b[0;34m(sql, con, index_col, coerce_float, params, parse_dates, columns, chunksize)\u001b[0m\n\u001b[1;32m    606\u001b[0m             \u001b[0mcoerce_float\u001b[0m\u001b[0;34m=\u001b[0m\u001b[0mcoerce_float\u001b[0m\u001b[0;34m,\u001b[0m\u001b[0;34m\u001b[0m\u001b[0;34m\u001b[0m\u001b[0m\n\u001b[1;32m    607\u001b[0m             \u001b[0mparse_dates\u001b[0m\u001b[0;34m=\u001b[0m\u001b[0mparse_dates\u001b[0m\u001b[0;34m,\u001b[0m\u001b[0;34m\u001b[0m\u001b[0;34m\u001b[0m\u001b[0m\n\u001b[0;32m--> 608\u001b[0;31m             \u001b[0mchunksize\u001b[0m\u001b[0;34m=\u001b[0m\u001b[0mchunksize\u001b[0m\u001b[0;34m,\u001b[0m\u001b[0;34m\u001b[0m\u001b[0;34m\u001b[0m\u001b[0m\n\u001b[0m\u001b[1;32m    609\u001b[0m         )\n\u001b[1;32m    610\u001b[0m \u001b[0;34m\u001b[0m\u001b[0m\n",
      "\u001b[0;32m/opt/python/3.7.13/lib/python3.7/site-packages/pandas/io/sql.py\u001b[0m in \u001b[0;36mread_query\u001b[0;34m(self, sql, index_col, coerce_float, params, parse_dates, chunksize, dtype)\u001b[0m\n\u001b[1;32m   2114\u001b[0m \u001b[0;34m\u001b[0m\u001b[0m\n\u001b[1;32m   2115\u001b[0m         \u001b[0margs\u001b[0m \u001b[0;34m=\u001b[0m \u001b[0m_convert_params\u001b[0m\u001b[0;34m(\u001b[0m\u001b[0msql\u001b[0m\u001b[0;34m,\u001b[0m \u001b[0mparams\u001b[0m\u001b[0;34m)\u001b[0m\u001b[0;34m\u001b[0m\u001b[0;34m\u001b[0m\u001b[0m\n\u001b[0;32m-> 2116\u001b[0;31m         \u001b[0mcursor\u001b[0m \u001b[0;34m=\u001b[0m \u001b[0mself\u001b[0m\u001b[0;34m.\u001b[0m\u001b[0mexecute\u001b[0m\u001b[0;34m(\u001b[0m\u001b[0;34m*\u001b[0m\u001b[0margs\u001b[0m\u001b[0;34m)\u001b[0m\u001b[0;34m\u001b[0m\u001b[0;34m\u001b[0m\u001b[0m\n\u001b[0m\u001b[1;32m   2117\u001b[0m         \u001b[0mcolumns\u001b[0m \u001b[0;34m=\u001b[0m \u001b[0;34m[\u001b[0m\u001b[0mcol_desc\u001b[0m\u001b[0;34m[\u001b[0m\u001b[0;36m0\u001b[0m\u001b[0;34m]\u001b[0m \u001b[0;32mfor\u001b[0m \u001b[0mcol_desc\u001b[0m \u001b[0;32min\u001b[0m \u001b[0mcursor\u001b[0m\u001b[0;34m.\u001b[0m\u001b[0mdescription\u001b[0m\u001b[0;34m]\u001b[0m\u001b[0;34m\u001b[0m\u001b[0;34m\u001b[0m\u001b[0m\n\u001b[1;32m   2118\u001b[0m \u001b[0;34m\u001b[0m\u001b[0m\n",
      "\u001b[0;32m/opt/python/3.7.13/lib/python3.7/site-packages/pandas/io/sql.py\u001b[0m in \u001b[0;36mexecute\u001b[0;34m(self, *args, **kwargs)\u001b[0m\n\u001b[1;32m   2063\u001b[0m                     \u001b[0;34mf\"Execution failed on sql: {args[0]}\\n{exc}\\nunable to rollback\"\u001b[0m\u001b[0;34m\u001b[0m\u001b[0;34m\u001b[0m\u001b[0m\n\u001b[1;32m   2064\u001b[0m                 )\n\u001b[0;32m-> 2065\u001b[0;31m                 \u001b[0;32mraise\u001b[0m \u001b[0mex\u001b[0m \u001b[0;32mfrom\u001b[0m \u001b[0minner_exc\u001b[0m\u001b[0;34m\u001b[0m\u001b[0;34m\u001b[0m\u001b[0m\n\u001b[0m\u001b[1;32m   2066\u001b[0m \u001b[0;34m\u001b[0m\u001b[0m\n\u001b[1;32m   2067\u001b[0m             \u001b[0mex\u001b[0m \u001b[0;34m=\u001b[0m \u001b[0mDatabaseError\u001b[0m\u001b[0;34m(\u001b[0m\u001b[0;34mf\"Execution failed on sql '{args[0]}': {exc}\"\u001b[0m\u001b[0;34m)\u001b[0m\u001b[0;34m\u001b[0m\u001b[0;34m\u001b[0m\u001b[0m\n",
      "\u001b[0;31mDatabaseError\u001b[0m: Execution failed on sql: \nSELECT DISTINCT Species.Code, Species.Scientific_name\nFROM Bird_nests\nJOIN Species ON Bird_nests.Species = Species.Code\nWHERE Bird_nests.Length IS NOT NULL AND Bird_nests.Width IS NOT NULL\n\nORDER BY Species.Scientific_name;\n\nBinder Error: Table \"Bird_nests\" does not have a column named \"Length\"\nLINE 5: WHERE Bird_nests.Length IS NOT NULL AND Bird_nests.Width IS NOT NULL\n\nORDER BY Species.Scientific_name;\n...\n              ^\nunable to rollback"
     ]
    }
   ],
   "source": [
    "import pandas as pd\n",
    "import duckdb\n",
    "\n",
    "# Connect to the DuckDB database\n",
    "conn = duckdb.connect(database='database.db')  # Replace 'your_database.db' with your actual database file\n",
    "\n",
    "# Step 1: Query distinct species with egg data\n",
    "species_query = \"\"\"\n",
    "SELECT DISTINCT Species.Code, Species.Scientific_name\n",
    "FROM Bird_nests\n",
    "JOIN Species ON Bird_nests.Species = Species.Code\n",
    "WHERE Bird_nests.Length IS NOT NULL AND Bird_nests.Width IS NOT NULL\n",
    "\n",
    "ORDER BY Species.Scientific_name;\n",
    "\"\"\"\n",
    "\n",
    "# Read data into Pandas DataFrame\n",
    "species_df = pd.read_sql(species_query, conn) \n",
    "# should do same as above\n",
    "# Execute the query and fetch the results\n",
    "#species_result = conn.execute(species_query).fetchdf()\n",
    "# Load results into a Pandas DataFrame\n",
    "#species_df = pd.DataFrame(species_result)\n",
    "\n",
    "\n",
    "# Display the DataFrame\n",
    "print(species_df)"
   ]
  },
  {
   "cell_type": "markdown",
   "id": "65bbb11e-159f-4c2b-9613-ac9784d679a4",
   "metadata": {},
   "source": [
    "#### Step 2\n",
    "After you’ve connected to the database and created a cursor c, iterate over the species like so:\n",
    "\n",
    "species_query = \"\"\"SELECT Code, Scientific_name FROM...\"\"\"\n",
    "for row in c.execute(species_query).fetchall():  # DuckDB lame-o workaround\n",
    "    species_code = row[0]\n",
    "    scientific_name = row[1]\n",
    "    # query egg data for that species (step 3)\n",
    "    # compute statistics and print results (step 4)"
   ]
  },
  {
   "cell_type": "code",
   "execution_count": null,
   "id": "0b4b569d-4fce-49ea-babb-e64ae0251286",
   "metadata": {},
   "outputs": [],
   "source": [
    "species_query = \"\"\"\n",
    "SELECT DISTINCT Species.Code, Species.Scientific_name\n",
    "FROM Bird_nests\n",
    "JOIN Species ON Bird_nests.Species = Species.Code\n",
    "WHERE Bird_nests.Length IS NOT NULL AND Bird_nests.Width IS NOT NULL\n",
    "ORDER BY Species.Scientific_name;\n",
    "\"\"\"\n",
    "for row in conn.execute(species_query).fetchall():  # DuckDB lame-o workaround\n",
    "    species_code = row[0]\n",
    "    scientific_name = row[1]"
   ]
  },
  {
   "cell_type": "markdown",
   "id": "b7f64593-fe54-442b-ac05-7cf7c5773dbc",
   "metadata": {},
   "source": [
    "#### Step 3\n",
    "\n",
    "You will need to construct a query that gathers egg data for a given species, one species at a time; the species code will be a parameter to that query. You can compute the formula\n",
    "\n",
    "in SQL or in Pandas. For simplicity, SQL is suggested:\n",
    "\n",
    "```{SQL}\n",
    "egg_query = \"\"\"SELECT Width*Width*Length AS Volume FROM...\"\"\"\n",
    "```\n",
    "\n",
    "Within the loop, you will want to execute the query on the current species in the loop iteration. You may use the Pandas function pd.read_sql to do so and also directly load the results into a dataframe:\n",
    "```{python}\n",
    "df = pd.read_sql(egg_query, conn, ...)\n",
    "```\n",
    "\n",
    "Do a `help(pd.read_sql)` to figure out how to pass parameters to a query.\n",
    "\n",
    "You may get a bunch of warnings from Pandas about how it “only supports SQLAlchemy…”. Just ignore them. (Sorry about that.)\n"
   ]
  },
  {
   "cell_type": "code",
   "execution_count": null,
   "id": "e116b7b8-934a-4ecb-aaf3-7046c3a980cd",
   "metadata": {},
   "outputs": [],
   "source": [
    "species_query = \"\"\"\n",
    "SELECT DISTINCT Species.Code, Species.Scientific_name\n",
    "FROM Bird_nests\n",
    "JOIN Species ON Bird_nests.Species = Species.Code\n",
    "WHERE Bird_nests.Length IS NOT NULL AND Bird_nests.Width IS NOT NULL\n",
    "ORDER BY Species.Scientific_name;\n",
    "\"\"\"\n",
    "\n",
    "# Read data into Pandas DataFrame\n",
    "species_df = pd.read_sql(species_query, conn)\n",
    "\n",
    "# Step 2: Iterate over each species code and execute the egg query\n",
    "for index, row in species_df.iterrows():\n",
    "    species_code = row['Code']\n",
    "    egg_query = f\"\"\"\n",
    "    CREATE TEMP TABLE EggVolumes AS\n",
    "    SELECT AVG(Width * Width * Length) AS EggVolume\n",
    "    FROM Bird_nests\n",
    "    JOIN Species ON Bird_nests.Species = Species.Code\n",
    "    WHERE Species = '{species_code}' AND Length IS NOT NULL AND Width IS NOT NULL\n",
    "    GROUP BY Species.Code\n",
    "    \"\"\"\n",
    "    egg_volume_df = pd.read_sql(egg_query, conn)\n",
    "    # Do something with the egg_volume_df, like printing it\n",
    "    print(egg_volume_df)"
   ]
  },
  {
   "cell_type": "markdown",
   "id": "59fb7465-45cd-418d-9565-41e4d4d30bfe",
   "metadata": {},
   "source": [
    "#### Step 4\n",
    "\n",
    "Finally, and still within your loop, you’ll want to compute statistics and print out the results:\n",
    "\n",
    "cv = round(df.Volume.std()/df.Volume.mean()*100, 2)\n",
    "print(f\"{scientific_name} {cv}%\")\n",
    "\n",
    "Your output should look like this:\n",
    "\n",
    "Arenaria interpres 21.12%\n",
    "Calidris alpina 5.46%\n",
    "Calidris fuscicollis 16.77%\n",
    "Charadrius semipalmatus 8.99%\n",
    "Phalaropus fulicarius 4.65%\n",
    "Pluvialis dominica 19.88%"
   ]
  },
  {
   "cell_type": "code",
   "execution_count": null,
   "id": "8c8e0fc7-fc61-4466-a200-becd950a2164",
   "metadata": {},
   "outputs": [],
   "source": [
    "# Step 2: Iterate over each species code and execute the egg query\n",
    "for index, row in species_df.iterrows():\n",
    "    species_code = row['Code']\n",
    "    egg_query = f\"\"\"\n",
    "    CREATE TEMP TABLE EggVolumes AS\n",
    "    SELECT AVG(Width * Width * Length) AS EggVolume\n",
    "    FROM Bird_nests\n",
    "    JOIN Species ON Bird_nests.Species = Species.Code\n",
    "    WHERE Species = '{species_code}' AND Length IS NOT NULL AND Width IS NOT NULL\n",
    "    GROUP BY Species.Code\n",
    "    \"\"\"\n",
    "    egg_volume_df = pd.read_sql(egg_query, conn)\n",
    "    # Do something with the egg_volume_df, like printing it\n",
    "   # Compute statistics and print out the results\n",
    "    if not egg_volume_df.empty:\n",
    "        cv = round(egg_volume_df['EggVolume'].std() / egg_volume_df['EggVolume'].mean() * 100, 2)\n",
    "        print(f\"{scientific_name} {cv}%\")"
   ]
  }
 ],
 "metadata": {
  "kernelspec": {
   "display_name": "Python 3.7.13",
   "language": "python",
   "name": "py3.7.13"
  },
  "language_info": {
   "codemirror_mode": {
    "name": "ipython",
    "version": 3
   },
   "file_extension": ".py",
   "mimetype": "text/x-python",
   "name": "python",
   "nbconvert_exporter": "python",
   "pygments_lexer": "ipython3",
   "version": "3.7.13"
  }
 },
 "nbformat": 4,
 "nbformat_minor": 5
}
