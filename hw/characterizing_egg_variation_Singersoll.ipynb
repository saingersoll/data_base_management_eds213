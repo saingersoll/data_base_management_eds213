{
 "cells": [
  {
   "cell_type": "markdown",
   "metadata": {},
   "source": [
    "Author: Sofia Ingersoll\n",
    "\n",
    "\n",
    "Title: WK6 SQL Q1\n",
    "\n",
    "\n",
    "Date: 2024/05/14\n"
   ]
  },
  {
   "cell_type": "markdown",
   "metadata": {},
   "source": [
    "\n",
    "#### Step 1\n",
    "\n",
    "Create a query that will return the distinct species for which there is egg data (not all species and not all nests have egg data), so that you can then loop over those species. Your query should return two columns, species code and scientific name. Please order the results in alphabetic order of scientific name.\n"
   ]
  },
  {
   "cell_type": "code",
   "execution_count": 5,
   "metadata": {},
   "outputs": [
    {
     "ename": "CatalogException",
     "evalue": "Catalog Error: Table with name Bird_nests does not exist!\nDid you mean \"temp.information_schema.tables\"?\nLINE 3: FROM Bird_nests\n             ^",
     "output_type": "error",
     "traceback": [
      "\u001b[0;31m---------------------------------------------------------------------------\u001b[0m",
      "\u001b[0;31mCatalogException\u001b[0m                          Traceback (most recent call last)",
      "\u001b[1;32m/Users/sofiaingersoll/1/EDS213/dbm/hw/characterizing_egg_variation_Singersoll.ipynb Cell 3\u001b[0m line \u001b[0;36m1\n\u001b[1;32m      <a href='vscode-notebook-cell:/Users/sofiaingersoll/1/EDS213/dbm/hw/characterizing_egg_variation_Singersoll.ipynb#W0sZmlsZQ%3D%3D?line=7'>8</a>\u001b[0m species_query \u001b[39m=\u001b[39m \u001b[39m\"\"\"\u001b[39m\n\u001b[1;32m      <a href='vscode-notebook-cell:/Users/sofiaingersoll/1/EDS213/dbm/hw/characterizing_egg_variation_Singersoll.ipynb#W0sZmlsZQ%3D%3D?line=8'>9</a>\u001b[0m \u001b[39mSELECT DISTINCT Species.Code, Species.Scientific_name\u001b[39m\n\u001b[1;32m     <a href='vscode-notebook-cell:/Users/sofiaingersoll/1/EDS213/dbm/hw/characterizing_egg_variation_Singersoll.ipynb#W0sZmlsZQ%3D%3D?line=9'>10</a>\u001b[0m \u001b[39mFROM Bird_nests\u001b[39m\n\u001b[1;32m     <a href='vscode-notebook-cell:/Users/sofiaingersoll/1/EDS213/dbm/hw/characterizing_egg_variation_Singersoll.ipynb#W0sZmlsZQ%3D%3D?line=10'>11</a>\u001b[0m \u001b[39mJOIN Species ON Bird_nests.Species = Species.Code\u001b[39m\n\u001b[1;32m     <a href='vscode-notebook-cell:/Users/sofiaingersoll/1/EDS213/dbm/hw/characterizing_egg_variation_Singersoll.ipynb#W0sZmlsZQ%3D%3D?line=11'>12</a>\u001b[0m \u001b[39mWHERE Bird_nests.Length IS NOT NULL AND Bird_nests.Width IS NOT NULL;\u001b[39m\n\u001b[1;32m     <a href='vscode-notebook-cell:/Users/sofiaingersoll/1/EDS213/dbm/hw/characterizing_egg_variation_Singersoll.ipynb#W0sZmlsZQ%3D%3D?line=12'>13</a>\u001b[0m \u001b[39m\"\"\"\u001b[39m\n\u001b[1;32m     <a href='vscode-notebook-cell:/Users/sofiaingersoll/1/EDS213/dbm/hw/characterizing_egg_variation_Singersoll.ipynb#W0sZmlsZQ%3D%3D?line=14'>15</a>\u001b[0m \u001b[39m# Read data into Pandas DataFrame\u001b[39;00m\n\u001b[0;32m---> <a href='vscode-notebook-cell:/Users/sofiaingersoll/1/EDS213/dbm/hw/characterizing_egg_variation_Singersoll.ipynb#W0sZmlsZQ%3D%3D?line=15'>16</a>\u001b[0m species_df \u001b[39m=\u001b[39m conn\u001b[39m.\u001b[39;49mexecute(species_query)\u001b[39m.\u001b[39mfetchdf()\n\u001b[1;32m     <a href='vscode-notebook-cell:/Users/sofiaingersoll/1/EDS213/dbm/hw/characterizing_egg_variation_Singersoll.ipynb#W0sZmlsZQ%3D%3D?line=18'>19</a>\u001b[0m \u001b[39m# Display the DataFrame\u001b[39;00m\n\u001b[1;32m     <a href='vscode-notebook-cell:/Users/sofiaingersoll/1/EDS213/dbm/hw/characterizing_egg_variation_Singersoll.ipynb#W0sZmlsZQ%3D%3D?line=19'>20</a>\u001b[0m \u001b[39mprint\u001b[39m(species_df)\n",
      "\u001b[0;31mCatalogException\u001b[0m: Catalog Error: Table with name Bird_nests does not exist!\nDid you mean \"temp.information_schema.tables\"?\nLINE 3: FROM Bird_nests\n             ^"
     ]
    }
   ],
   "source": [
    "import pandas as pd\n",
    "import duckdb\n",
    "\n",
    "# Connect to the DuckDB database\n",
    "conn = duckdb.connect(database='database.db')  # Replace 'your_database.db' with your actual database file\n",
    "\n",
    "# Step 1: Query distinct species with egg data\n",
    "species_query = \"\"\"\n",
    "SELECT DISTINCT Species.Code, Species.Scientific_name\n",
    "FROM Bird_nests\n",
    "JOIN Species ON Bird_nests.Species = Species.Code\n",
    "WHERE Bird_nests.Length IS NOT NULL AND Bird_nests.Width IS NOT NULL\n",
    "ORDER BY Species.Scientific_name;\n",
    "\"\"\"\n",
    "\n",
    "# Read data into Pandas DataFrame\n",
    "species_df = pd.read_sql(species_query, conn) \n",
    "# should do same as above\n",
    "# Execute the query and fetch the results\n",
    "#species_result = conn.execute(species_query).fetchdf()\n",
    "# Load results into a Pandas DataFrame\n",
    "#species_df = pd.DataFrame(species_result)\n",
    "\n",
    "\n",
    "# Display the DataFrame\n",
    "print(species_df)\n"
   ]
  },
  {
   "cell_type": "code",
   "execution_count": 3,
   "metadata": {},
   "outputs": [
    {
     "ename": "NameError",
     "evalue": "name 'species_df' is not defined",
     "output_type": "error",
     "traceback": [
      "\u001b[0;31m---------------------------------------------------------------------------\u001b[0m",
      "\u001b[0;31mNameError\u001b[0m                                 Traceback (most recent call last)",
      "\u001b[1;32m/Users/sofiaingersoll/1/EDS213/dbm/hw/characterizing_egg_variation_Singersoll.ipynb Cell 4\u001b[0m line \u001b[0;36m1\n\u001b[0;32m----> <a href='vscode-notebook-cell:/Users/sofiaingersoll/1/EDS213/dbm/hw/characterizing_egg_variation_Singersoll.ipynb#W4sZmlsZQ%3D%3D?line=0'>1</a>\u001b[0m species_df\n",
      "\u001b[0;31mNameError\u001b[0m: name 'species_df' is not defined"
     ]
    }
   ],
   "source": [
    "species_df\n"
   ]
  },
  {
   "cell_type": "markdown",
   "metadata": {},
   "source": [
    "#### Step 2\n",
    "After you’ve connected to the database and created a cursor c, iterate over the species like so:\n",
    "\n",
    "species_query = \"\"\"SELECT Code, Scientific_name FROM...\"\"\"\n",
    "for row in c.execute(species_query).fetchall():  # DuckDB lame-o workaround\n",
    "    species_code = row[0]\n",
    "    scientific_name = row[1]\n",
    "    # query egg data for that species (step 3)\n",
    "    # compute statistics and print results (step 4)"
   ]
  },
  {
   "cell_type": "code",
   "execution_count": null,
   "metadata": {},
   "outputs": [],
   "source": [
    "species_query = \"\"\"\n",
    "SELECT DISTINCT Species.Code, Species.Scientific_name\n",
    "FROM Bird_nests\n",
    "JOIN Species ON Bird_nests.Species = Species.Code\n",
    "WHERE Bird_nests.Length IS NOT NULL AND Bird_nests.Width IS NOT NULL\n",
    "ORDER BY Species.Scientific_name;\n",
    "\"\"\"\n",
    "for row in conn.execute(species_query).fetchall():  # DuckDB lame-o workaround\n",
    "    species_code = row[0]\n",
    "    scientific_name = row[1]\n",
    "    # query egg data for that species (step 3)\n",
    "    # compute statistics and print results (step 4)"
   ]
  },
  {
   "cell_type": "markdown",
   "metadata": {},
   "source": [
    "#### Step 3\n",
    "\n",
    "You will need to construct a query that gathers egg data for a given species, one species at a time; the species code will be a parameter to that query. You can compute the formula\n",
    "\n",
    "in SQL or in Pandas. For simplicity, SQL is suggested:\n",
    "\n",
    "```{SQL}\n",
    "egg_query = \"\"\"SELECT Width*Width*Length AS Volume FROM...\"\"\"\n",
    "```\n",
    "\n",
    "Within the loop, you will want to execute the query on the current species in the loop iteration. You may use the Pandas function pd.read_sql to do so and also directly load the results into a dataframe:\n",
    "```{python}\n",
    "df = pd.read_sql(egg_query, conn, ...)\n",
    "```\n",
    "\n",
    "Do a `help(pd.read_sql)` to figure out how to pass parameters to a query.\n",
    "\n",
    "You may get a bunch of warnings from Pandas about how it “only supports SQLAlchemy…”. Just ignore them. (Sorry about that.)\n"
   ]
  },
  {
   "cell_type": "code",
   "execution_count": null,
   "metadata": {},
   "outputs": [],
   "source": [
    "species_query = \"\"\"\n",
    "SELECT DISTINCT Species.Code, Species.Scientific_name\n",
    "FROM Bird_nests\n",
    "JOIN Species ON Bird_nests.Species = Species.Code\n",
    "WHERE Bird_nests.Length IS NOT NULL AND Bird_nests.Width IS NOT NULL\n",
    "ORDER BY Species.Scientific_name;\n",
    "\"\"\"\n",
    "\n",
    "# Read data into Pandas DataFrame\n",
    "species_df = pd.read_sql(species_query, conn)\n",
    "\n",
    "# Step 2: Iterate over each species code and execute the egg query\n",
    "for index, row in species_df.iterrows():\n",
    "    species_code = row['Code']\n",
    "    egg_query = f\"\"\"\n",
    "    CREATE TEMP TABLE EggVolumes AS\n",
    "    SELECT AVG(Width * Width * Length) AS EggVolume\n",
    "    FROM Bird_nests\n",
    "    JOIN Species ON Bird_nests.Species = Species.Code\n",
    "    WHERE Species = '{species_code}' AND Length IS NOT NULL AND Width IS NOT NULL\n",
    "    GROUP BY Species.Code\n",
    "    \"\"\"\n",
    "    egg_volume_df = pd.read_sql(egg_query, conn)\n",
    "    # Do something with the egg_volume_df, like printing it\n",
    "    print(egg_volume_df)\n"
   ]
  },
  {
   "cell_type": "code",
   "execution_count": null,
   "metadata": {},
   "outputs": [],
   "source": [
    "# Query to iterate through all species and collects the egg data for each species at a time using species code \n",
    "species_query = \"\"\"\n",
    "SELECT DISTINCT Species.Code, Species.Scientific_name\n",
    "FROM Bird_nests\n",
    "JOIN Species ON Bird_nests.Species = Species.Code\n",
    "WHERE Bird_nests.Length IS NOT NULL AND Bird_nests.Width IS NOT NULL\n",
    "ORDER BY Species.Scientific_name;\n",
    "\"\"\"\n",
    "\n",
    "# Get a list of all distinct species codes\n",
    "# Iterate over each species code\n",
    "egg_query = \"\"\"CREATE TEMP TABLE EggVolumes AS\n",
    "SELECT Species.Code,\n",
    "       AVG(Width * Width * Length) AS EggVolume\n",
    "FROM Bird_nests\n",
    "JOIN Species ON Bird_nests.Species = Species.Code\n",
    "WHERE Bird_nests.Length IS NOT NULL AND Bird_nests.Width IS NOT NULL\n",
    "GROUP BY Species.Code;\n",
    "\"\"\"\n",
    "\n",
    "\n",
    "for row in conn.execute(species_query).fetchall():  # DuckDB lame-o workaround\n",
    "    species_code = row['Code']\n",
    "    scientific_name = row[1]"
   ]
  },
  {
   "cell_type": "markdown",
   "metadata": {},
   "source": [
    "\n",
    "#### Step 4\n",
    "\n",
    "Finally, and still within your loop, you’ll want to compute statistics and print out the results:\n",
    "\n",
    "cv = round(df.Volume.std()/df.Volume.mean()*100, 2)\n",
    "print(f\"{scientific_name} {cv}%\")\n",
    "\n",
    "Your output should look like this:\n",
    "\n",
    "Arenaria interpres 21.12%\n",
    "Calidris alpina 5.46%\n",
    "Calidris fuscicollis 16.77%\n",
    "Charadrius semipalmatus 8.99%\n",
    "Phalaropus fulicarius 4.65%\n",
    "Pluvialis dominica 19.88%\n",
    "Pluvialis squatarola 6.94%\n",
    "\n"
   ]
  },
  {
   "cell_type": "code",
   "execution_count": null,
   "metadata": {},
   "outputs": [],
   "source": [
    "# Step 2: Iterate over each species code and execute the egg query\n",
    "for index, row in species_df.iterrows():\n",
    "    species_code = row['Code']\n",
    "    egg_query = f\"\"\"\n",
    "    CREATE TEMP TABLE EggVolumes AS\n",
    "    SELECT AVG(Width * Width * Length) AS EggVolume\n",
    "    FROM Bird_nests\n",
    "    JOIN Species ON Bird_nests.Species = Species.Code\n",
    "    WHERE Species = '{species_code}' AND Length IS NOT NULL AND Width IS NOT NULL\n",
    "    GROUP BY Species.Code\n",
    "    \"\"\"\n",
    "    egg_volume_df = pd.read_sql(egg_query, conn)\n",
    "    # Do something with the egg_volume_df, like printing it\n",
    "   # Compute statistics and print out the results\n",
    "    if not egg_volume_df.empty:\n",
    "        cv = round(egg_volume_df['EggVolume'].std() / egg_volume_df['EggVolume'].mean() * 100, 2)\n",
    "        print(f\"{scientific_name} {cv}%\")\n"
   ]
  },
  {
   "cell_type": "markdown",
   "metadata": {},
   "source": []
  }
 ],
 "metadata": {
  "kernelspec": {
   "display_name": "env-py",
   "language": "python",
   "name": "python3"
  },
  "language_info": {
   "codemirror_mode": {
    "name": "ipython",
    "version": 3
   },
   "file_extension": ".py",
   "mimetype": "text/x-python",
   "name": "python",
   "nbconvert_exporter": "python",
   "pygments_lexer": "ipython3",
   "version": "3.11.4"
  }
 },
 "nbformat": 4,
 "nbformat_minor": 2
}
