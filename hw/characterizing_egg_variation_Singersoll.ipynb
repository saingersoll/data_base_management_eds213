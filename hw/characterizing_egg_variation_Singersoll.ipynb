{
 "cells": [
  {
   "cell_type": "markdown",
   "metadata": {},
   "source": [
    "Author: Sofia Ingersoll\n",
    "\n",
    "\n",
    "Title: WK6 SQL Q1\n",
    "\n",
    "\n",
    "Date: 2024/05/14\n"
   ]
  },
  {
   "cell_type": "markdown",
   "metadata": {},
   "source": [
    "\n",
    "#### Step 1\n",
    "\n",
    "Create a query that will return the distinct species for which there is egg data (not all species and not all nests have egg data), so that you can then loop over those species. Your query should return two columns, species code and scientific name. Please order the results in alphabetic order of scientific name.\n"
   ]
  },
  {
   "cell_type": "code",
   "execution_count": 2,
   "metadata": {},
   "outputs": [
    {
     "ename": "ModuleNotFoundError",
     "evalue": "No module named 'duckdb'",
     "output_type": "error",
     "traceback": [
      "\u001b[0;31m---------------------------------------------------------------------------\u001b[0m",
      "\u001b[0;31mModuleNotFoundError\u001b[0m                       Traceback (most recent call last)",
      "\u001b[1;32m/Users/sofiaingersoll/1/EDS213/dbm/hw/characterizing_egg_variation_Singersoll.ipynb Cell 3\u001b[0m line \u001b[0;36m2\n\u001b[1;32m      <a href='vscode-notebook-cell:/Users/sofiaingersoll/1/EDS213/dbm/hw/characterizing_egg_variation_Singersoll.ipynb#W0sZmlsZQ%3D%3D?line=0'>1</a>\u001b[0m \u001b[39mimport\u001b[39;00m \u001b[39mpandas\u001b[39;00m \u001b[39mas\u001b[39;00m \u001b[39mpd\u001b[39;00m\n\u001b[0;32m----> <a href='vscode-notebook-cell:/Users/sofiaingersoll/1/EDS213/dbm/hw/characterizing_egg_variation_Singersoll.ipynb#W0sZmlsZQ%3D%3D?line=1'>2</a>\u001b[0m \u001b[39mimport\u001b[39;00m \u001b[39mduckdb\u001b[39;00m\n\u001b[1;32m      <a href='vscode-notebook-cell:/Users/sofiaingersoll/1/EDS213/dbm/hw/characterizing_egg_variation_Singersoll.ipynb#W0sZmlsZQ%3D%3D?line=3'>4</a>\u001b[0m \u001b[39m# Connect to the DuckDB database\u001b[39;00m\n\u001b[1;32m      <a href='vscode-notebook-cell:/Users/sofiaingersoll/1/EDS213/dbm/hw/characterizing_egg_variation_Singersoll.ipynb#W0sZmlsZQ%3D%3D?line=4'>5</a>\u001b[0m conn \u001b[39m=\u001b[39m duckdb\u001b[39m.\u001b[39mconnect(database\u001b[39m=\u001b[39m\u001b[39m'\u001b[39m\u001b[39myour_database.db\u001b[39m\u001b[39m'\u001b[39m)  \u001b[39m# Replace 'your_database.db' with your actual database file\u001b[39;00m\n",
      "\u001b[0;31mModuleNotFoundError\u001b[0m: No module named 'duckdb'"
     ]
    }
   ],
   "source": [
    "import pandas as pd\n",
    "pip duckdb\n",
    "\n",
    "# Connect to the DuckDB database\n",
    "conn = duckdb.connect(database='your_database.db')  # Replace 'your_database.db' with your actual database file\n",
    "\n",
    "# Step 1: Query distinct species with egg data\n",
    "species_query = \"\"\"\n",
    "SELECT DISTINCT Species.Code, Species.Scientific_name\n",
    "FROM Bird_nests\n",
    "JOIN Species ON Bird_nests.Species = Species.Code\n",
    "WHERE Bird_nests.Length IS NOT NULL AND Bird_nests.Width IS NOT NULL;\n",
    "\"\"\"\n",
    "\n",
    "# Read data into Pandas DataFrame\n",
    "species_df = conn.execute(species_query).fetchdf()\n",
    "\n",
    "# Display the DataFrame\n",
    "print(species_df)\n"
   ]
  },
  {
   "cell_type": "markdown",
   "metadata": {},
   "source": []
  }
 ],
 "metadata": {
  "kernelspec": {
   "display_name": "env-py",
   "language": "python",
   "name": "python3"
  },
  "language_info": {
   "codemirror_mode": {
    "name": "ipython",
    "version": 3
   },
   "file_extension": ".py",
   "mimetype": "text/x-python",
   "name": "python",
   "nbconvert_exporter": "python",
   "pygments_lexer": "ipython3",
   "version": "3.11.4"
  }
 },
 "nbformat": 4,
 "nbformat_minor": 2
}
